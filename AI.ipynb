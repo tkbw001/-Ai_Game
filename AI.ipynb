import numpy as np
import random
import pygame
import sys
import math

# ----------- Colors ------------
BLUE = (0, 0, 255)
BLACK = (0, 0, 0)
RED = (255, 0, 0)
YELLOW = (255, 255, 0)

# ----------- Game Constants ------------
ROW_COUNT = 6
COLUMN_COUNT = 7
WINDOW_LENGTH = 4  # Number of pieces in a row to win
SQUARESIZE = 100  # Size of one square in pixels
RADIUS = int(SQUARESIZE / 2 - 5) # Radius of the playing piece

# ----------- Game Pieces (Represented by numbers) ------------
EMPTY = 0
PLAYER1_PIECE = 1 # Player 1's piece (or Human in Human vs AI)
PLAYER2_PIECE = 2 # Player 2's piece (or AI)

# ----------- Game Modes ------------
HUMAN_VS_AI = 1
AI_VS_AI = 2
HUMAN_VS_HUMAN = 3

# ----------- AI Search Depth ------------

AI_DEPTH = 4 # Adjust this for AI difficulty

# ----------- Functions ------------

def create_board():
    """Creates an empty game board"""
    return np.zeros((ROW_COUNT, COLUMN_COUNT), dtype=int) # Using int for data type clarity

def drop_piece(board, row, col, piece):
    """Drops a piece at the specified location"""
    board[row][col] = piece

def is_valid_location(board, col):
    """Checks if the selected column is valid (not full)"""
    # Checks the top row (highest index) in the selected column
    return board[ROW_COUNT - 1][col] == EMPTY

def get_next_open_row(board, col):
    """Finds the first empty row in the selected column to place the piece"""
    for r in range(ROW_COUNT):
        if board[r][col] == EMPTY:
            return r
    return None # Should not happen if checked with is_valid_location first

def print_board(board):
    """Prints the board state to the console (flipped vertically for correct view)"""
    print(np.flip(board, 0))

def winning_move(board, piece):
    """Checks if the specified piece has won the game"""
    # Check horizontal locations for win
    for c in range(COLUMN_COUNT - 3):
        for r in range(ROW_COUNT):
            # Using list comprehension and all() for simpler condition
            if all(board[r][c + i] == piece for i in range(WINDOW_LENGTH)):
                return True
    # Check vertical locations for win
    for c in range(COLUMN_COUNT):
        for r in range(ROW_COUNT - 3):
            if all(board[r + i][c] == piece for i in range(WINDOW_LENGTH)):
                return True
    # Check positively sloped diagonals
    for c in range(COLUMN_COUNT - 3):
        for r in range(ROW_COUNT - 3):
            if all(board[r + i][c + i] == piece for i in range(WINDOW_LENGTH)):
                return True
    # Check negatively sloped diagonals
    for c in range(COLUMN_COUNT - 3):
        # Start check from row index 3
        for r in range(3, ROW_COUNT):
            if all(board[r - i][c + i] == piece for i in range(WINDOW_LENGTH)):
                return True
    return False # No win found

def evaluate_window(window, piece):
    """Evaluates a 'window' (segment) of the board for a specific piece's advantage"""
    score = 0
    # Determine opponent's piece
    opp_piece = PLAYER1_PIECE if piece == PLAYER2_PIECE else PLAYER2_PIECE

    # Convert window to list for easy count()
    window_list = list(window)

    # Calculate score based on piece count in window
    if window_list.count(piece) == 4:
        score += 100 # Four pieces = almost guaranteed win
    elif window_list.count(piece) == 3 and window_list.count(EMPTY) == 1:
        score += 5 # Three pieces with a chance to complete
    elif window_list.count(piece) == 2 and window_list.count(EMPTY) == 2:
        score += 2 # Two pieces with two chances

    # Reduce score significantly if the opponent is close to winning in this window
    if window_list.count(opp_piece) == 3 and window_list.count(EMPTY) == 1:
        score -= 80 # Blocking an opponent's win is critical

    return score

def score_position(board, piece):
    """Calculates the total score for the current board position for a specific piece"""
    score = 0

    # --- Add bonus points for center column control ---
    center_array = list(board[:, COLUMN_COUNT // 2]) # Get center column as list
    center_count = center_array.count(piece)
    score += center_count * 3

    # --- Score Horizontal ---
    for r in range(ROW_COUNT):
        row_array = list(board[r, :]) # Get row as list
        for c in range(COLUMN_COUNT - 3):
            window = row_array[c:c + WINDOW_LENGTH] # Get window of size WINDOW_LENGTH
            score += evaluate_window(window, piece)

    # --- Score Vertical ---
    for c in range(COLUMN_COUNT):
        col_array = list(board[:, c]) # Get column as list
        for r in range(ROW_COUNT - 3):
            window = col_array[r:r + WINDOW_LENGTH]
            score += evaluate_window(window, piece)

    # --- Score Diagonals ---
    # Positive slope
    for r in range(ROW_COUNT - 3):
        for c in range(COLUMN_COUNT - 3):
            window = [board[r + i][c + i] for i in range(WINDOW_LENGTH)]
            score += evaluate_window(window, piece)
    # Negative slope
    for r in range(ROW_COUNT - 3):
        for c in range(COLUMN_COUNT - 3):
            # Row must start at 3 for diagonal down
            window = [board[r + 3 - i][c + i] for i in range(WINDOW_LENGTH)]
            score += evaluate_window(window, piece)

    return score

def is_terminal_node(board):
    """Checks if the game has ended (win for either player or draw)"""
    return winning_move(board, PLAYER1_PIECE) or winning_move(board, PLAYER2_PIECE) or len(get_valid_locations(board)) == 0

def get_valid_locations(board):
    """Gets a list of all valid columns to place a piece"""
    valid_locations = []
    for col in range(COLUMN_COUNT):
        if is_valid_location(board, col):
            valid_locations.append(col)
    return valid_locations

def minimax(board, depth, alpha, beta, maximizingPlayer):
    """Minimax algorithm with Alpha-Beta Pruning to choose the best move for AI"""

    valid_locations = get_valid_locations(board)
    is_terminal = is_terminal_node(board)

    # Base case: Reached max depth or game over
    if depth == 0 or is_terminal:
        if is_terminal:
            if winning_move(board, PLAYER2_PIECE): # AI (Player 2) won
                return (None, 100000000000000) # Very high value for winning
            elif winning_move(board, PLAYER1_PIECE): # Opponent (Human or AI 1) won
                return (None, -10000000000000) # Very low value for losing
            else: # Game is over, no more valid moves (draw)
                return (None, 0)
        else: # Reached depth limit, evaluate current position
            # Always evaluate the score from the perspective of PLAYER2_PIECE (the primary AI)
            return (None, score_position(board, PLAYER2_PIECE))

    # Maximizing player's turn (AI - Player 2, or AI 1 trying to maximize its score which minimizes Player 2's relative score)
    if maximizingPlayer:
        value = -math.inf
        # Choose a random column as initial default
        best_col = random.choice(valid_locations)
        for col in valid_locations:
            row = get_next_open_row(board, col)
            # Create a temporary copy of the board to simulate the move
            temp_board = board.copy()
            drop_piece(temp_board, row, col, PLAYER2_PIECE) # Assume maximizing player is Player 2
            # Recursive call for the next level (minimizing player)
            new_score = minimax(temp_board, depth - 1, alpha, beta, False)[1]
            # print(f"AI Max testing col {col}, score {new_score}") # For debugging evaluation steps (optional)
            if new_score > value:
                value = new_score
                best_col = col
            # Alpha-Beta Pruning
            alpha = max(alpha, value)
            if alpha >= beta:
                # print("Max prune") # Optional debug print
                break
        return best_col, value

    # Minimizing player's turn (Human or AI 1)
    else: # minimizingPlayer
        value = math.inf
        best_col = random.choice(valid_locations)
        for col in valid_locations:
            row = get_next_open_row(board, col)
            temp_board = board.copy()
            drop_piece(temp_board, row, col, PLAYER1_PIECE) # Assume minimizing player is Player 1
            # Recursive call for the next level (maximizing player)
            new_score = minimax(temp_board, depth - 1, alpha, beta, True)[1]
            # print(f"AI Min testing col {col}, score {new_score}") # Optional debug print
            if new_score < value:
                value = new_score
                best_col = col
            # Alpha-Beta Pruning
            beta = min(beta, value)
            if alpha >= beta:
                # print("Min prune") # Optional debug print
                break
        return best_col, value

def draw_board(board, screen):
    """Draws the game board and pieces on the Pygame screen"""
    height = (ROW_COUNT + 1) * SQUARESIZE
    width = COLUMN_COUNT * SQUARESIZE
    for c in range(COLUMN_COUNT):
        for r in range(ROW_COUNT):
            # Draw the blue rectangle for each slot
            # y-coordinate starts from SQUARESIZE to leave space at the top
            rect_y = r * SQUARESIZE + SQUARESIZE
            pygame.draw.rect(screen, BLUE, (c * SQUARESIZE, rect_y, SQUARESIZE, SQUARESIZE))

            # Determine circle color (black for empty, red for player 1, yellow for player 2)
            color = BLACK
            # Access board using (r, c) as numpy indexing is (row, column)
            board_data_row = ROW_COUNT - 1 - r

            if board[board_data_row][c] == PLAYER1_PIECE:
                color = RED
            elif board[board_data_row][c] == PLAYER2_PIECE:
                color = YELLOW
            # Draw the circle in the center of the square
            # Circle y-coordinate also needs SQUARESIZE offset
            center_y = int(r * SQUARESIZE + SQUARESIZE + SQUARESIZE / 2)
            center_x = int(c * SQUARESIZE + SQUARESIZE / 2)
            pygame.draw.circle(screen, color, (center_x, center_y), RADIUS)

    pygame.display.update() # Update the screen to show changes

def choose_mode():
    """Allows the user to choose the game mode via the console"""
    print("-------------------------")
    print("Choose Game Mode:")
    print(f"{HUMAN_VS_AI} - Human vs AI")
    print(f"{AI_VS_AI} - AI vs AI")
    print(f"{HUMAN_VS_HUMAN} - Human vs Human")
    print("-------------------------")
    while True:
        try:
            mode = int(input(f"Enter {HUMAN_VS_AI}, {AI_VS_AI}, or {HUMAN_VS_HUMAN}: "))
            if mode in [HUMAN_VS_AI, AI_VS_AI, HUMAN_VS_HUMAN]:
                return mode
            else:
                print("Invalid input. Please enter a valid mode number.")
        except ValueError:
            print("Invalid input. Please enter a number.")

# ----------- Main Game Function ------------
def game_loop():
    """The main game loop"""

    # Choose game mode
    mode = choose_mode()

    # Initialize board and game state
    board = create_board()
    game_over = False
    # Determine starting player (random in AI vs AI, otherwise Player 1)
    if mode == AI_VS_AI:
        turn = random.randint(0, 1) # 0 for Player 1 (AI 1), 1 for Player 2 (AI 2)
        print(f"AI vs AI mode: Player {turn + 1} (AI) starts.")
    else:
        turn = 0 # 0 for Player 1 (Human/AI), 1 for Player 2 (Human/AI)
        print(f"Player {turn + 1} starts.")

    # Initialize Pygame
    pygame.init()
    print("Starting game...")

    # Setup screen, dimensions, and font
    width = COLUMN_COUNT * SQUARESIZE
    # Height includes extra space at the top (1 * SQUARESIZE)
    height = (ROW_COUNT + 1) * SQUARESIZE
    size = (width, height)
    screen = pygame.display.set_mode(size)
    pygame.display.set_caption("Connect 4") # Add window title
    # Use a commonly available font
    try:
        font = pygame.font.SysFont("arial", 75) # Use Arial, change if not available
    except:
        font = pygame.font.SysFont(None, 75) # Use default font if Arial fails

    # Draw the initial board
    draw_board(board, screen)
    pygame.display.update()

    # Main game loop
    while not game_over:

        # --- Handle User Input and Events ---
        for event in pygame.event.get():
            if event.type == pygame.QUIT:
                print("Closing game.")
                pygame.quit() # Quit Pygame cleanly before exiting
                sys.exit() # Exit program when window is closed

            # --- Mouse Motion (to show the piece to be dropped) ---
            if event.type == pygame.MOUSEMOTION and not game_over:
                # Clear only the top part for the moving piece
                pygame.draw.rect(screen, BLACK, (0, 0, width, SQUARESIZE))
                posx = event.pos[0] # Get mouse x-coordinate
                # Determine piece color based on current turn for human players
                if mode == HUMAN_VS_AI and turn == 0: # Human's turn in H-vs-AI
                     pygame.draw.circle(screen, RED, (posx, int(SQUARESIZE / 2)), RADIUS)
                elif mode == HUMAN_VS_HUMAN:
                     color = RED if turn == 0 else YELLOW
                     pygame.draw.circle(screen, color, (posx, int(SQUARESIZE / 2)), RADIUS)

                pygame.display.update() # Update screen to show piece movement

            # --- Mouse Button Down (attempt to drop a piece) ---
            if event.type == pygame.MOUSEBUTTONDOWN and not game_over:
                pygame.draw.rect(screen, BLACK, (0, 0, width, SQUARESIZE)) # Clear top part after playing

                # player is human
                current_player_is_human = False
                if mode == HUMAN_VS_HUMAN:
                    current_player_is_human = True
                elif mode == HUMAN_VS_AI and turn == 0: # Player 1's turn in Human vs AI
                    current_player_is_human = True

                if current_player_is_human:
                    posx = event.pos[0]
                    # Convert x-coordinate to column number
                    col = int(math.floor(posx / SQUARESIZE))

                    # Determine current player's piece
                    piece = PLAYER1_PIECE if turn == 0 else PLAYER2_PIECE

                    # Check column validity and drop piece
                    if is_valid_location(board, col):
                        row = get_next_open_row(board, col)
                        drop_piece(board, row, col, piece)
                        # print_board(np.flip(board, 0)) # Print updated board to console

                        # Check for win
                        if winning_move(board, piece):
                            winner = "Player 1" if piece == PLAYER1_PIECE else "Player 2"
                            print(f"{winner} wins!")
                            label = font.render(f"{winner} wins!!", True, RED if piece == PLAYER1_PIECE else YELLOW) # Use True for antialias
                            # Display win message at the top
                            screen.blit(label, (40, 10))
                            game_over = True

                        # Draw the updated board
                        draw_board(board, screen)

                        # Switch turn only if the game isn't over
                        if not game_over:
                            turn += 1
                            turn %= 2 # Makes the value toggle between 0 and 1

                        # Check for draw after player's move only if game not won
                        if not game_over and len(get_valid_locations(board)) == 0:
                             print("Draw!")
                             label = font.render("Draw!!", True, BLUE)
                             screen.blit(label, (40, 10))
                             game_over = True
                             draw_board(board, screen) # Redraw to show draw message

                    else:
                        print("Invalid column, try again.")
                        # Could add a visual message here if desired


        # --- AI's Turn ---
        ai_turn_now = False
        if not game_over:
            if mode == AI_VS_AI:
                ai_turn_now = True
            elif mode == HUMAN_VS_AI and turn == 1: # Player 2's turn (AI) in Human vs AI
                ai_turn_now = True

        if ai_turn_now:
            # Determine current AI's piece (AI 1 or AI 2)
            ai_piece = PLAYER1_PIECE if turn == 0 else PLAYER2_PIECE

            # --- Determine if this AI should maximize or minimize ---
            is_maximizing = (ai_piece == PLAYER2_PIECE)

            print(f"AI Player {turn + 1}'s turn to think...")
            # Call minimax to choose the best column
            col, minimax_score = minimax(board, AI_DEPTH, -math.inf, math.inf, is_maximizing)

            if col is not None: # Check if minimax returned a valid column
                 print(f"AI Player {turn + 1} chose column {col} with score: {minimax_score}")
                 if is_valid_location(board, col):
                     #pygame.time.wait(500) # Optional pause to see AI move
                     row = get_next_open_row(board, col)
                     drop_piece(board, row, col, ai_piece)
                     # print_board(np.flip(board, 0)) # Print board to console

                     # Check if AI won
                     if winning_move(board, ai_piece):
                         winner = "AI 1" if ai_piece == PLAYER1_PIECE else "AI 2"
                         print(f"{winner} wins!")
                         label = font.render(f"{winner} wins!!", True, RED if ai_piece == PLAYER1_PIECE else YELLOW)
                         screen.blit(label, (40, 10))
                         game_over = True

                     # Draw updated board
                     draw_board(board, screen)

                     # Switch turn only if the game isn't over
                     if not game_over:
                         turn += 1
                         turn %= 2

                     # Check for draw after AI's move only if game not won
                     if not game_over and len(get_valid_locations(board)) == 0:
                         print("Draw!")
                         label = font.render("Draw!!", True, BLUE)
                         screen.blit(label, (40, 10))
                         game_over = True
                         draw_board(board, screen) # Redraw to show draw message
                 else:
                      print(f"Error: AI chose an invalid column {col}. This shouldn't happen.")
                      if len(get_valid_locations(board)) == 0 and not game_over:
                          print("Draw!")
                          label = font.render("Draw!!", True, BLUE)
                          screen.blit(label, (40, 10))
                          game_over = True
                          draw_board(board, screen)

            else:
                 print("Error: AI (Minimax) did not return a column.")
                 if len(get_valid_locations(board)) == 0 and not game_over: # Confirm draw state
                     print("Draw!")
                     label = font.render("Draw!!", True, BLUE)
                     screen.blit(label, (40, 10))
                     game_over = True
                     draw_board(board, screen)


        # --- Wait when game is over before returning to main loop ---
        if game_over:
            pygame.display.update() # Make sure the final board and message are shown
            pygame.time.wait(3000) # Wait for 3 seconds
            # Return from this game loop instance to allow for replay prompt
            return

# --- Start the Game ---
if __name__ == "__main__":
    while True: # Loop to allow replaying after a game ends
        game_loop() # Run one instance of the game

        # --- Improved "Play Again?" Prompt ---
        while True: # Loop specifically for getting valid 'yes'/'no' input
            try:
                 # Ask if the user wants to play again
                play_again = input("Play again? (yes/no): ").lower().strip() # Lowercase and remove whitespace
                if play_again in ['yes','y']:
                    print("-" * 20) # Separator for new game
                    break # Exit the 'play again' loop and start a new game_loop
                elif play_again in ['no', 'n']:
                    print("Thanks for playing!")
                    pygame.quit() # Quit Pygame cleanly
                    sys.exit() # Exit the program
                else:
                    # Handle invalid input without crashing
                    print("Invalid input. Please type 'yes' or 'no' .")
            except EOFError: # Handle cases where input stream is closed unexpectedly
                print("\nInput stream closed. Exiting.")
                pygame.quit()
                sys.exit()
            except Exception as e: # Catch other potential input errors
                print(f"An error occurred during input: {e}")
                pygame.quit()
                sys.exit()
